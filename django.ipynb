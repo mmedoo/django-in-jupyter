{
 "cells": [
  {
   "cell_type": "code",
   "execution_count": null,
   "metadata": {},
   "outputs": [],
   "source": [
    "# You can put the Notebook file in the same directory as your project folder\n",
    "# and keep the PROJECT_PATH as None.\n",
    "# Otherwise, set the PROJECT_PATH, and you can run it anywhere.\n",
    "\n",
    "PROJECT_PATH = None\n",
    "PROJECT_NAME = \"myapp\""
   ]
  },
  {
   "cell_type": "code",
   "execution_count": null,
   "metadata": {},
   "outputs": [],
   "source": [
    "# This block is necessary to run Django in Jupyter\n",
    "# Do NOT touch if you don't want to encounter errors.\n",
    "# Docs: https://docs.djangoproject.com/en/4.1/topics/async/#async-safety\n",
    "\n",
    "import django\n",
    "import os, sys\n",
    "\n",
    "if PROJECT_PATH:\n",
    "\tsys.path.insert(0, PROJECT_PATH)\n",
    "\tos.chdir(PROJECT_PATH)\n",
    "\n",
    "os.environ.setdefault(\"DJANGO_SETTINGS_MODULE\", f\"{PROJECT_PATH}.settings\")\n",
    "os.environ[\"DJANGO_ALLOW_ASYNC_UNSAFE\"] = \"true\"\n",
    "\n",
    "try:\n",
    "\tdjango.setup()\n",
    "except ModuleNotFoundError as e:\n",
    "\tprint(f\"Error: {e}\")"
   ]
  },
  {
   "cell_type": "code",
   "execution_count": null,
   "metadata": {},
   "outputs": [],
   "source": [
    "# Start coding here\n"
   ]
  }
 ],
 "metadata": {
  "kernelspec": {
   "display_name": "Python 3",
   "language": "python",
   "name": "python3"
  },
  "language_info": {
   "codemirror_mode": {
    "name": "ipython",
    "version": 3
   },
   "file_extension": ".py",
   "mimetype": "text/x-python",
   "name": "python",
   "nbconvert_exporter": "python",
   "pygments_lexer": "ipython3",
   "version": "3.12.3"
  }
 },
 "nbformat": 4,
 "nbformat_minor": 2
}

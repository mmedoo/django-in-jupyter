{
 "cells": [
  {
   "cell_type": "code",
   "execution_count": null,
   "metadata": {},
   "outputs": [],
   "source": [
    "# This jupyter file is to interact with the sqlite file using built-in django ORM.\n",
    "# It's helpful in these cases:\n",
    "\t# 1. You don't want to use the terminal.\n",
    "\t# 2. You don't have SQLite installed in your local environment.\n",
    "\t# 3. You want to simulate an ORM process from the app."
   ]
  },
  {
   "cell_type": "code",
   "execution_count": 10,
   "metadata": {},
   "outputs": [],
   "source": [
    "# This block is important to run the django ORM in jupyter\n",
    "# Do NOT touch if you don't want to encounter errors.\n",
    "# It took me a while to figure it out.\n",
    "# https://docs.djangoproject.com/en/4.1/topics/async/#async-safety\n",
    "\n",
    "import os\n",
    "import django\n",
    "os.environ.setdefault('DJANGO_SETTINGS_MODULE', 'app.settings')\n",
    "os.environ[\"DJANGO_ALLOW_ASYNC_UNSAFE\"] = \"true\"\n",
    "django.setup()"
   ]
  },
  {
   "cell_type": "code",
   "execution_count": 2,
   "metadata": {},
   "outputs": [],
   "source": [
    "from url_shortener.models import links"
   ]
  },
  {
   "cell_type": "code",
   "execution_count": 7,
   "metadata": {},
   "outputs": [
    {
     "name": "stdout",
     "output_type": "stream",
     "text": [
      "k1mlA http://mmedoo.github.io/react-project-dashboard/build\n"
     ]
    }
   ],
   "source": [
    "for link in links.objects.all():\n",
    "\tprint(link.key , link.url)"
   ]
  }
 ],
 "metadata": {
  "kernelspec": {
   "display_name": "Python 3",
   "language": "python",
   "name": "python3"
  },
  "language_info": {
   "codemirror_mode": {
    "name": "ipython",
    "version": 3
   },
   "file_extension": ".py",
   "mimetype": "text/x-python",
   "name": "python",
   "nbconvert_exporter": "python",
   "pygments_lexer": "ipython3",
   "version": "3.12.3"
  }
 },
 "nbformat": 4,
 "nbformat_minor": 2
}
